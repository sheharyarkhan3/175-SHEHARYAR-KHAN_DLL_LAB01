{
 "cells": [
  {
   "cell_type": "code",
   "execution_count": 18,
   "id": "fe83de03-28f2-4aab-8314-14a5df2eb65f",
   "metadata": {},
   "outputs": [
    {
     "name": "stdout",
     "output_type": "stream",
     "text": [
      "SHEHARYAR KHAN(175)-LAB 01-TASK 01(01):\n",
      "\n",
      "Sum: 19.25074\n",
      "Mean: 0.5500212\n",
      "Max: 0.9839437\n"
     ]
    }
   ],
   "source": [
    "print(\"SHEHARYAR KHAN(175)-LAB 01-TASK 01(01):\\n\")\n",
    "import tensorflow as tf\n",
    "# Create a 3D tensor with random float values\n",
    "random_tensor = tf.random.uniform(shape=(1, 7, 5), minval=0, maxval=1, dtype=tf.float32)\n",
    "# Calculate the sum, mean, and maximum of the tensor\n",
    "tensor_sum = tf.reduce_sum(random_tensor)\n",
    "tensor_mean = tf.reduce_mean(random_tensor)\n",
    "tensor_max = tf.reduce_max(random_tensor)\n",
    "# Print the results\n",
    "print(\"Sum:\", tensor_sum.numpy())\n",
    "print(\"Mean:\", tensor_mean.numpy())\n",
    "print(\"Max:\", tensor_max.numpy())"
   ]
  },
  {
   "cell_type": "code",
   "execution_count": 20,
   "id": "d05059a5-eadf-4ddf-98fb-3cc7601f365d",
   "metadata": {},
   "outputs": [
    {
     "name": "stdout",
     "output_type": "stream",
     "text": [
      "SHEHARYAR KHAN(175)-LAB 01-TASK 01(02):\n",
      "\n",
      "Specific Element [1, 2, 1]: 17\n",
      "2D Slice (First Layer):\n",
      " [[1 2 3]\n",
      " [4 5 6]\n",
      " [7 8 9]]\n",
      "1D Slice (First Row of Second Layer): [22 23 24]\n"
     ]
    }
   ],
   "source": [
    "print(\"SHEHARYAR KHAN(175)-LAB 01-TASK 01(02):\\n\")\n",
    "# Create another 3D tensor for slicing\n",
    "tensor_3d = tf.constant([\n",
    "    [[1, 2, 3], [4, 5, 6], [7, 8, 9]],\n",
    "    [[10, 11, 12], [13, 14, 15], [16, 17, 18]],\n",
    "    [[19, 20, 21], [22, 23, 24], [25, 26, 27]]\n",
    "])\n",
    "# Access a specific element (e.g., element at position [1, 2, 1])\n",
    "specific_element = tensor_3d[1, 2, 1]\n",
    "# Access a 2D slice (e.g., slice of the first layer)\n",
    "two_d_slice = tensor_3d[0, :, :]\n",
    "# Access a 1D slice (e.g., first row of the second layer)\n",
    "one_d_slice = tensor_3d[2, 1, :]\n",
    "# Print the accessed elements and slices\n",
    "print(\"Specific Element [1, 2, 1]:\", specific_element.numpy())\n",
    "print(\"2D Slice (First Layer):\\n\", two_d_slice.numpy())\n",
    "print(\"1D Slice (First Row of Second Layer):\", one_d_slice.numpy())"
   ]
  },
  {
   "cell_type": "code",
   "execution_count": 22,
   "id": "60d6c272-523f-4693-a2cd-02f0cabb7c7b",
   "metadata": {},
   "outputs": [
    {
     "name": "stdout",
     "output_type": "stream",
     "text": [
      "SHEHARYAR KHAN(175)-LAB 01-TASK 02:\n",
      "\n",
      "Results of Tensor Operations:\n",
      "Addition: [15. 30. 45.]\n",
      "Subtraction: [ 5. 10. 15.]\n",
      "Multiplication: [ 50. 200. 450.]\n",
      "Division: [2. 2. 2.]\n"
     ]
    }
   ],
   "source": [
    "print(\"SHEHARYAR KHAN(175)-LAB 01-TASK 02:\\n\")\n",
    "import tensorflow as tf\n",
    "# Define the tensor operations function\n",
    "@tf.function\n",
    "def tensor_operations(tensor1, tensor2):\n",
    "    addition = tf.add(tensor1, tensor2)\n",
    "    subtraction = tf.subtract(tensor1, tensor2)\n",
    "    multiplication = tf.multiply(tensor1, tensor2)\n",
    "    division = tf.divide(tensor1, tensor2)\n",
    "    return {\n",
    "        \"addition\": addition,\n",
    "        \"subtraction\": subtraction,\n",
    "        \"multiplication\": multiplication,\n",
    "        \"division\": division\n",
    "    }\n",
    "# Test the function with the provided tensors\n",
    "tensor1 = tf.constant([10, 20, 30], dtype=tf.float32)\n",
    "tensor2 = tf.constant([5, 10, 15], dtype=tf.float32)\n",
    "# Call the tensor_operations function\n",
    "results = tensor_operations(tensor1, tensor2)\n",
    "# Print the results\n",
    "print(\"Results of Tensor Operations:\")\n",
    "for operation, result in results.items():\n",
    "    print(f\"{operation.capitalize()}: {result.numpy()}\")"
   ]
  },
  {
   "cell_type": "code",
   "execution_count": 24,
   "id": "371934d6-f010-434f-8bf1-c0c271e174e2",
   "metadata": {},
   "outputs": [
    {
     "name": "stdout",
     "output_type": "stream",
     "text": [
      "SHEHARYAR KHAN(175)-LAB 01-TASK 03(01):\n",
      "\n",
      "Random Array: [0.83972757 0.0743955  0.54733722 0.3502455  0.31522665 0.80362146\n",
      " 0.27519563 0.48205336 0.87549994 0.66209514]\n",
      "Sorted Ascending: [0.0743955  0.27519563 0.31522665 0.3502455  0.48205336 0.54733722\n",
      " 0.66209514 0.80362146 0.83972757 0.87549994]\n",
      "Sorted Descending: [0.87549994 0.83972757 0.80362146 0.66209514 0.54733722 0.48205336\n",
      " 0.3502455  0.31522665 0.27519563 0.0743955 ]\n"
     ]
    }
   ],
   "source": [
    "print(\"SHEHARYAR KHAN(175)-LAB 01-TASK 03(01):\\n\")\n",
    "import numpy as np\n",
    "# Create a NumPy array with random float values\n",
    "random_array = np.random.rand(10)  # Array of 10 random floats\n",
    "# Sort the array in ascending order\n",
    "sorted_ascending = np.sort(random_array)\n",
    "# Sort the array in descending order\n",
    "sorted_descending = sorted_ascending[::-1]  # Reverse the sorted array\n",
    "# Print the results\n",
    "print(\"Random Array:\", random_array)\n",
    "print(\"Sorted Ascending:\", sorted_ascending)\n",
    "print(\"Sorted Descending:\", sorted_descending)"
   ]
  },
  {
   "cell_type": "code",
   "execution_count": 26,
   "id": "6cddeb36-dc81-4534-96af-f02238d43ba7",
   "metadata": {},
   "outputs": [
    {
     "name": "stdout",
     "output_type": "stream",
     "text": [
      "SHEHARYAR KHAN(175)-LAB 01-TASK 03(02):\n",
      "\n",
      "2x2 Matrix:\n",
      " [[1 2]\n",
      " [3 4]]\n",
      "Transpose of Matrix:\n",
      " [[1 3]\n",
      " [2 4]]\n",
      "Inverse of Matrix:\n",
      " [[-2.   1. ]\n",
      " [ 1.5 -0.5]]\n"
     ]
    }
   ],
   "source": [
    "print(\"SHEHARYAR KHAN(175)-LAB 01-TASK 03(02):\\n\")\n",
    "# Create a 2x2 NumPy matrix\n",
    "matrix_2x2 = np.array([[1, 2], [3, 4]])\n",
    "# Calculate its transpose\n",
    "matrix_transpose = np.transpose(matrix_2x2)\n",
    "# Calculate its inverse\n",
    "matrix_inverse = np.linalg.inv(matrix_2x2)\n",
    "# Print the results\n",
    "print(\"2x2 Matrix:\\n\", matrix_2x2)\n",
    "print(\"Transpose of Matrix:\\n\", matrix_transpose)\n",
    "print(\"Inverse of Matrix:\\n\", matrix_inverse)"
   ]
  },
  {
   "cell_type": "code",
   "execution_count": 28,
   "id": "4d93ce9f-01f4-44df-8224-a4b18b7d8031",
   "metadata": {},
   "outputs": [
    {
     "name": "stdout",
     "output_type": "stream",
     "text": [
      "SHEHARYAR KHAN(175)-LAB 01-TASK 03(03):\n",
      "\n",
      "2D Array:\n",
      " [[1 2 3]\n",
      " [4 5 6]\n",
      " [7 8 9]]\n",
      "Sum of Each Row: [ 6 15 24]\n",
      "Mean of Each Column: [4. 5. 6.]\n",
      "Standard Deviation of the Entire Array: 2.581988897471611\n"
     ]
    }
   ],
   "source": [
    "print(\"SHEHARYAR KHAN(175)-LAB 01-TASK 03(03):\\n\")\n",
    "# Create a 2D NumPy array\n",
    "array_2d = np.array([[1, 2, 3], [4, 5, 6], [7, 8, 9]])\n",
    "# Calculate the sum of each row\n",
    "row_sums = np.sum(array_2d, axis=1)\n",
    "# Calculate the mean of each column\n",
    "column_means = np.mean(array_2d, axis=0)\n",
    "# Calculate the standard deviation of the entire array\n",
    "std_deviation = np.std(array_2d)\n",
    "# Print the results\n",
    "print(\"2D Array:\\n\", array_2d)\n",
    "print(\"Sum of Each Row:\", row_sums)\n",
    "print(\"Mean of Each Column:\", column_means)\n",
    "print(\"Standard Deviation of the Entire Array:\", std_deviation)"
   ]
  },
  {
   "cell_type": "code",
   "execution_count": null,
   "id": "a36f3682-79ce-42de-8ae2-886442caf5da",
   "metadata": {},
   "outputs": [],
   "source": []
  }
 ],
 "metadata": {
  "kernelspec": {
   "display_name": "Python 3 (ipykernel)",
   "language": "python",
   "name": "python3"
  },
  "language_info": {
   "codemirror_mode": {
    "name": "ipython",
    "version": 3
   },
   "file_extension": ".py",
   "mimetype": "text/x-python",
   "name": "python",
   "nbconvert_exporter": "python",
   "pygments_lexer": "ipython3",
   "version": "3.12.7"
  }
 },
 "nbformat": 4,
 "nbformat_minor": 5
}
